{
 "cells": [
  {
   "cell_type": "code",
   "execution_count": 4,
   "metadata": {},
   "outputs": [],
   "source": [
    "import entailment as ent\n",
    "from entailment import led_parser\n",
    "\n",
    "import tensorflow as tf\n",
    "import numpy as np\n",
    "import matplotlib.pyplot as plt\n",
    "\n",
    "import copy\n",
    "import random\n"
   ]
  },
  {
   "cell_type": "markdown",
   "metadata": {},
   "source": [
    "## Baselines\n",
    "\n",
    "Want to implement some better baselines.\n",
    "\n",
    "How much better this the `possibleworldsnet` than just evaluating entailment over possible worlds...\n",
    "- what does the cts sat approximation actually achieve?\n",
    "- how much of `possibleworldsnet`'s performance is due to the possible worlds?"
   ]
  },
  {
   "cell_type": "code",
   "execution_count": 5,
   "metadata": {},
   "outputs": [],
   "source": [
    "gen = ent.data.fetch_data(500)"
   ]
  },
  {
   "cell_type": "code",
   "execution_count": 6,
   "metadata": {},
   "outputs": [],
   "source": [
    "class Evaluator():\n",
    "    def __init__(self):\n",
    "        self.alphabet = 'abcdefghijklmnopqrstuvwxyz'\n",
    "        language = led_parser.propositional_language()\n",
    "        self.parser = led_parser.Parser(language)\n",
    "        self.build_op_mappings()\n",
    "        \n",
    "    def build_op_mappings(self):\n",
    "        mapping = {}\n",
    "        mapping['&'] = bool.__and__\n",
    "        mapping['~'] = lambda x: not x # bool.__neg__\n",
    "        mapping['|'] = bool.__or__\n",
    "        mapping['<'] = bool.__le__\n",
    "        mapping['>'] = bool.__ge__\n",
    "        \n",
    "        self.op_mappings = mapping\n",
    "        \n",
    "    def rnd_assignment(self):\n",
    "        return {c: bool(random.getrandbits(1)) for c in self.alphabet}\n",
    "        \n",
    "    def __call__(self, s, assignments=None):\n",
    "        if assignments is None:\n",
    "            assignments = self.rnd_assignment()\n",
    "        \n",
    "        tree = self.parser.parse(s)\n",
    "\n",
    "        stack = []\n",
    "        for i in range(len(tree.inputs)):\n",
    "            \n",
    "            if len(tree.inputs[i]) == 0:\n",
    "                stack.append(assignments[tree.ops[i].decode(\"utf-8\")])\n",
    "                \n",
    "            elif len(tree.inputs[i]) == 1:\n",
    "                idx = tree.inputs[i][0] + i\n",
    "                fn = self.op_mappings[tree.ops[i].decode(\"utf-8\")]\n",
    "                stack.append(fn(stack[idx]))\n",
    "                \n",
    "            elif len(tree.inputs[i]) == 2:\n",
    "                idx = [idx + i for idx in tree.inputs[i]]\n",
    "                fn = self.op_mappings[tree.ops[i].decode(\"utf-8\")]\n",
    "                stack.append(fn(stack[idx[0]], stack[idx[1]]))\n",
    "                \n",
    "        return stack[-1]\n",
    "\n",
    "evaluator = Evaluator()"
   ]
  },
  {
   "cell_type": "code",
   "execution_count": 7,
   "metadata": {},
   "outputs": [],
   "source": [
    "A, B, E = next(gen)"
   ]
  },
  {
   "cell_type": "code",
   "execution_count": 8,
   "metadata": {},
   "outputs": [],
   "source": [
    "def sim_world(a, b):\n",
    "    # TODO make this a fn of a, b\n",
    "    world = evaluator.rnd_assignment()\n",
    "\n",
    "    e_a = evaluator(a, world)  \n",
    "    e_b = evaluator(b, world)\n",
    "\n",
    "    p = 1.0\n",
    "    if e_a and e_b:\n",
    "        return 1.0\n",
    "    elif e_a and not e_b:\n",
    "        return 0.0\n",
    "    elif not e_a and e_b:\n",
    "        return 1.0\n",
    "    elif not e_a and not e_b:\n",
    "        return 1.0\n",
    "    else:\n",
    "        return np.random.randint(0, 2, dtype=np.int32).astype(np.float32)\n",
    "    \n",
    "def many_worlds(a, b, n_worlds):\n",
    "    y = [sim_world(a, b) for _ in range(n_worlds)]\n",
    "    return np.prod(y)"
   ]
  },
  {
   "cell_type": "code",
   "execution_count": 9,
   "metadata": {},
   "outputs": [
    {
     "name": "stdout",
     "output_type": "stream",
     "text": [
      "(z&((x&w)&l)) (w&~(~((g>z))))\n"
     ]
    },
    {
     "data": {
      "text/plain": [
       "0.0"
      ]
     },
     "execution_count": 9,
     "metadata": {},
     "output_type": "execute_result"
    }
   ],
   "source": [
    "print(A[0], B[0])\n",
    "many_worlds(A[0], B[0], 10)"
   ]
  },
  {
   "cell_type": "code",
   "execution_count": 10,
   "metadata": {},
   "outputs": [],
   "source": [
    "# SLOW\n",
    "# y = np.array([many_worlds(a, b, 8) for a, b in zip(A, B)])  # can be parallelised!\n",
    "# acc = np.mean(np.equal(y, np.array(E)))\n",
    "# print('acc {}'.format(acc))"
   ]
  },
  {
   "cell_type": "code",
   "execution_count": 11,
   "metadata": {},
   "outputs": [
    {
     "name": "stdout",
     "output_type": "stream",
     "text": [
      "acc 0.516\n"
     ]
    }
   ],
   "source": [
    "acc = np.mean(np.equal(np.random.randint(0, 2, len(E)), np.array(E)))\n",
    "print('acc {}'.format(acc))"
   ]
  },
  {
   "cell_type": "code",
   "execution_count": 12,
   "metadata": {},
   "outputs": [],
   "source": [
    "from multiprocessing import Pool\n",
    "from functools import partial"
   ]
  },
  {
   "cell_type": "code",
   "execution_count": 13,
   "metadata": {},
   "outputs": [],
   "source": [
    "def wrapper(x, n_worlds):\n",
    "    a, b = x\n",
    "    return many_worlds(a, b, n_worlds)\n",
    "\n",
    "def forward(A, B, n_worlds):\n",
    "    f = partial(wrapper, n_worlds=n_worlds)\n",
    "    with Pool(16) as p:\n",
    "        y = p.map(f, zip(A, B))\n",
    "    return y"
   ]
  },
  {
   "cell_type": "code",
   "execution_count": 14,
   "metadata": {},
   "outputs": [
    {
     "name": "stdout",
     "output_type": "stream",
     "text": [
      "11.3 s ± 472 ms per loop (mean ± std. dev. of 7 runs, 1 loop each)\n"
     ]
    }
   ],
   "source": [
    "%timeit forward(A, B, 10)"
   ]
  },
  {
   "cell_type": "code",
   "execution_count": 15,
   "metadata": {},
   "outputs": [
    {
     "name": "stdout",
     "output_type": "stream",
     "text": [
      "20.5 s ± 261 ms per loop (mean ± std. dev. of 7 runs, 1 loop each)\n"
     ]
    }
   ],
   "source": [
    "%timeit [many_worlds(a, b, 10) for a, b in zip(A, B)]"
   ]
  },
  {
   "cell_type": "code",
   "execution_count": 16,
   "metadata": {},
   "outputs": [
    {
     "name": "stdout",
     "output_type": "stream",
     "text": [
      "acc 0.542\n",
      "acc 0.576\n",
      "acc 0.6\n",
      "acc 0.624\n",
      "acc 0.622\n",
      "acc 0.628\n",
      "acc 0.63\n"
     ]
    }
   ],
   "source": [
    "acc = []\n",
    "world_sizes = [8, 16, 32, 64, 128, 256, 512]\n",
    "for n_worlds in world_sizes:\n",
    "    y = np.array(forward(A, B, n_worlds))\n",
    "    acc.append(np.mean(np.equal(y, np.array(E))))\n",
    "    print('acc {}'.format(acc[-1]))"
   ]
  },
  {
   "cell_type": "code",
   "execution_count": 17,
   "metadata": {},
   "outputs": [
    {
     "data": {
      "text/plain": [
       "[<matplotlib.lines.Line2D at 0x7f575764f7f0>]"
      ]
     },
     "execution_count": 17,
     "metadata": {},
     "output_type": "execute_result"
    },
    {
     "data": {
      "image/png": "[encoded data removed]",
      "text/plain": [
       "<Figure size 432x288 with 1 Axes>"
      ]
     },
     "metadata": {},
     "output_type": "display_data"
    }
   ],
   "source": [
    "plt.plot(world_sizes, acc)"
   ]
  },
  {
   "cell_type": "code",
   "execution_count": null,
   "metadata": {},
   "outputs": [],
   "source": [
    "# so accuracy scales really poorly with n_worlds!?"
   ]
  },
  {
   "cell_type": "markdown",
   "metadata": {},
   "source": [
    "## Searching through assignments\n",
    "\n",
    "There are $2^{26}$ different variable assignments. Sample $n$ of them and test.\n",
    "What guarantees can we prove?\n",
    "How likely is it that $a \\rightarrow b$ given only few samples. \n",
    "\n",
    "But each $a, b$ doesnt have $26$ variables in it, normally only $3-8$. So this should be easy to earch thruogh the possibilities? $2^8 = 256$.\n",
    "\n",
    "Want something that scales well with !?.\n",
    "\n",
    "What about representing a distribution over the worlds we should test?! Let $a$ be an assignment, and $s$ be an input string. $f: s \\rightarrow p(a)$. But how can we efficiently represent a distribution over $2^{26}$ assignments? Use a tensor network!?"
   ]
  },
  {
   "cell_type": "code",
   "execution_count": null,
   "metadata": {},
   "outputs": [],
   "source": []
  }
 ],
 "metadata": {
  "kernelspec": {
   "display_name": "Python 3",
   "language": "python",
   "name": "python3"
  },
  "language_info": {
   "codemirror_mode": {
    "name": "ipython",
    "version": 3
   },
   "file_extension": ".py",
   "mimetype": "text/x-python",
   "name": "python",
   "nbconvert_exporter": "python",
   "pygments_lexer": "ipython3",
   "version": "3.6.5"
  }
 },
 "nbformat": 4,
 "nbformat_minor": 2
}
